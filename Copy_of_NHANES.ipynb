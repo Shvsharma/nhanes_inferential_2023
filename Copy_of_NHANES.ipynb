{
  "nbformat": 4,
  "nbformat_minor": 0,
  "metadata": {
    "colab": {
      "provenance": []
    },
    "kernelspec": {
      "name": "python3",
      "display_name": "Python 3"
    },
    "language_info": {
      "name": "python"
    }
  },
  "cells": [
    {
      "cell_type": "code",
      "execution_count": null,
      "metadata": {
        "id": "TlRqPHOoq1v2"
      },
      "outputs": [],
      "source": [
        "import pandas as pd\n",
        "import numpy as np\n",
        "import seaborn as sns\n",
        "import matplotlib.pyplot as plt\n",
        "from scipy.stats import chi2_contingency, ttest_ind, pearsonr, f_oneway\n"
      ]
    },
    {
      "cell_type": "code",
      "source": [
        "# Load relevant datasets and select columns\n",
        "# Demographics (DEMO_L) for marital status, education level, and age\n",
        "demo = pd.read_sas('https://wwwn.cdc.gov/Nchs/Nhanes/2021-2022/DEMO_L.XPT', format='xport')\n",
        "# Blood pressure (BPX_L) for systolic and diastolic blood pressure\n",
        "bp = pd.read_sas('https://wwwn.cdc.gov/Nchs/Nhanes/2021-2022/BPXO_L.XPT', format='xport')\n",
        "# Hepatitis B (HEPB_L) for Hepatitis B lab antibodies\n",
        "hepb = pd.read_sas('https://wwwn.cdc.gov/Nchs/Nhanes/2021-2022/HEPB_S_L.XPT', format='xport')\n",
        "# Kidney conditions questionnaire (KIQ_L) for weak/failing kidneys\n",
        "kiq = pd.read_sas('https://wwwn.cdc.gov/Nchs/Nhanes/2021-2022/KIQ_U_L.XPT', format='xport')\n",
        "# Physical activity (PAQ_L) for sedentary behavior\n",
        "paq = pd.read_sas('https://wwwn.cdc.gov/Nchs/Nhanes/2021-2022/PAQ_L.XPT', format='xport')\n",
        "# Vitamin D (VID_L) for vitamin D lab interpretation\n",
        "vid = pd.read_sas('https://wwwn.cdc.gov/Nchs/Nhanes/2021-2022/VID_L.XPT', format='xport')\n",
        "# Weight (WHQ_L) for current self-reported weight\n",
        "whq = pd.read_sas('https://wwwn.cdc.gov/Nchs/Nhanes/2021-2022/WHQ_L.XPT', format='xport')"
      ],
      "metadata": {
        "id": "vzujOemj4Rx7"
      },
      "execution_count": null,
      "outputs": []
    },
    {
      "cell_type": "code",
      "source": [
        "# Start with the first dataset\n",
        "df = demo[['SEQN', 'DMDMARTZ', 'DMDEDUC2', 'RIDAGEYR']]\n",
        "\n",
        "# Merge with each additional dataset using 'SEQN' as the key\n",
        "df = df.merge(bp[['SEQN', 'BPXOSY3', 'BPXODI3']], on='SEQN', how='left')\n",
        "df = df.merge(hepb[['SEQN', 'LBXHBS']], on='SEQN', how='left')\n",
        "df = df.merge(kiq[['SEQN', 'KIQ022']], on='SEQN', how='left')\n",
        "df = df.merge(paq[['SEQN', 'PAD680']], on='SEQN', how='left')\n",
        "df = df.merge(vid[['SEQN', 'LBDVD2LC']], on='SEQN', how='left')\n",
        "df = df.merge(whq[['SEQN', 'WHD020']], on='SEQN', how='left')\n",
        "\n",
        "# Display the merged table\n",
        "df.head()\n"
      ],
      "metadata": {
        "colab": {
          "base_uri": "https://localhost:8080/",
          "height": 226
        },
        "id": "61K0G8g36wxE",
        "outputId": "8ce6f9b6-09f9-4da4-a531-8fb2e9145b55"
      },
      "execution_count": null,
      "outputs": [
        {
          "output_type": "execute_result",
          "data": {
            "text/plain": [
              "       SEQN  DMDMARTZ  DMDEDUC2  RIDAGEYR  BPXOSY3  BPXODI3  LBXHBS  KIQ022  \\\n",
              "0  130378.0       1.0       5.0      43.0    132.0     94.0     2.0     2.0   \n",
              "1  130379.0       1.0       5.0      66.0    113.0     76.0     2.0     2.0   \n",
              "2  130380.0       1.0       3.0      44.0    104.0     76.0     2.0     2.0   \n",
              "3  130381.0       NaN       NaN       5.0      NaN      NaN     NaN     NaN   \n",
              "4  130382.0       NaN       NaN       2.0      NaN      NaN     2.0     NaN   \n",
              "\n",
              "   PAD680  LBDVD2LC  WHD020  \n",
              "0   360.0       1.0   190.0  \n",
              "1   480.0       1.0   220.0  \n",
              "2   240.0       1.0   150.0  \n",
              "3     NaN       NaN     NaN  \n",
              "4     NaN       NaN     NaN  "
            ],
            "text/html": [
              "\n",
              "  <div id=\"df-514a9336-20c4-4776-904f-9e0df1fe0985\" class=\"colab-df-container\">\n",
              "    <div>\n",
              "<style scoped>\n",
              "    .dataframe tbody tr th:only-of-type {\n",
              "        vertical-align: middle;\n",
              "    }\n",
              "\n",
              "    .dataframe tbody tr th {\n",
              "        vertical-align: top;\n",
              "    }\n",
              "\n",
              "    .dataframe thead th {\n",
              "        text-align: right;\n",
              "    }\n",
              "</style>\n",
              "<table border=\"1\" class=\"dataframe\">\n",
              "  <thead>\n",
              "    <tr style=\"text-align: right;\">\n",
              "      <th></th>\n",
              "      <th>SEQN</th>\n",
              "      <th>DMDMARTZ</th>\n",
              "      <th>DMDEDUC2</th>\n",
              "      <th>RIDAGEYR</th>\n",
              "      <th>BPXOSY3</th>\n",
              "      <th>BPXODI3</th>\n",
              "      <th>LBXHBS</th>\n",
              "      <th>KIQ022</th>\n",
              "      <th>PAD680</th>\n",
              "      <th>LBDVD2LC</th>\n",
              "      <th>WHD020</th>\n",
              "    </tr>\n",
              "  </thead>\n",
              "  <tbody>\n",
              "    <tr>\n",
              "      <th>0</th>\n",
              "      <td>130378.0</td>\n",
              "      <td>1.0</td>\n",
              "      <td>5.0</td>\n",
              "      <td>43.0</td>\n",
              "      <td>132.0</td>\n",
              "      <td>94.0</td>\n",
              "      <td>2.0</td>\n",
              "      <td>2.0</td>\n",
              "      <td>360.0</td>\n",
              "      <td>1.0</td>\n",
              "      <td>190.0</td>\n",
              "    </tr>\n",
              "    <tr>\n",
              "      <th>1</th>\n",
              "      <td>130379.0</td>\n",
              "      <td>1.0</td>\n",
              "      <td>5.0</td>\n",
              "      <td>66.0</td>\n",
              "      <td>113.0</td>\n",
              "      <td>76.0</td>\n",
              "      <td>2.0</td>\n",
              "      <td>2.0</td>\n",
              "      <td>480.0</td>\n",
              "      <td>1.0</td>\n",
              "      <td>220.0</td>\n",
              "    </tr>\n",
              "    <tr>\n",
              "      <th>2</th>\n",
              "      <td>130380.0</td>\n",
              "      <td>1.0</td>\n",
              "      <td>3.0</td>\n",
              "      <td>44.0</td>\n",
              "      <td>104.0</td>\n",
              "      <td>76.0</td>\n",
              "      <td>2.0</td>\n",
              "      <td>2.0</td>\n",
              "      <td>240.0</td>\n",
              "      <td>1.0</td>\n",
              "      <td>150.0</td>\n",
              "    </tr>\n",
              "    <tr>\n",
              "      <th>3</th>\n",
              "      <td>130381.0</td>\n",
              "      <td>NaN</td>\n",
              "      <td>NaN</td>\n",
              "      <td>5.0</td>\n",
              "      <td>NaN</td>\n",
              "      <td>NaN</td>\n",
              "      <td>NaN</td>\n",
              "      <td>NaN</td>\n",
              "      <td>NaN</td>\n",
              "      <td>NaN</td>\n",
              "      <td>NaN</td>\n",
              "    </tr>\n",
              "    <tr>\n",
              "      <th>4</th>\n",
              "      <td>130382.0</td>\n",
              "      <td>NaN</td>\n",
              "      <td>NaN</td>\n",
              "      <td>2.0</td>\n",
              "      <td>NaN</td>\n",
              "      <td>NaN</td>\n",
              "      <td>2.0</td>\n",
              "      <td>NaN</td>\n",
              "      <td>NaN</td>\n",
              "      <td>NaN</td>\n",
              "      <td>NaN</td>\n",
              "    </tr>\n",
              "  </tbody>\n",
              "</table>\n",
              "</div>\n",
              "    <div class=\"colab-df-buttons\">\n",
              "\n",
              "  <div class=\"colab-df-container\">\n",
              "    <button class=\"colab-df-convert\" onclick=\"convertToInteractive('df-514a9336-20c4-4776-904f-9e0df1fe0985')\"\n",
              "            title=\"Convert this dataframe to an interactive table.\"\n",
              "            style=\"display:none;\">\n",
              "\n",
              "  <svg xmlns=\"http://www.w3.org/2000/svg\" height=\"24px\" viewBox=\"0 -960 960 960\">\n",
              "    <path d=\"M120-120v-720h720v720H120Zm60-500h600v-160H180v160Zm220 220h160v-160H400v160Zm0 220h160v-160H400v160ZM180-400h160v-160H180v160Zm440 0h160v-160H620v160ZM180-180h160v-160H180v160Zm440 0h160v-160H620v160Z\"/>\n",
              "  </svg>\n",
              "    </button>\n",
              "\n",
              "  <style>\n",
              "    .colab-df-container {\n",
              "      display:flex;\n",
              "      gap: 12px;\n",
              "    }\n",
              "\n",
              "    .colab-df-convert {\n",
              "      background-color: #E8F0FE;\n",
              "      border: none;\n",
              "      border-radius: 50%;\n",
              "      cursor: pointer;\n",
              "      display: none;\n",
              "      fill: #1967D2;\n",
              "      height: 32px;\n",
              "      padding: 0 0 0 0;\n",
              "      width: 32px;\n",
              "    }\n",
              "\n",
              "    .colab-df-convert:hover {\n",
              "      background-color: #E2EBFA;\n",
              "      box-shadow: 0px 1px 2px rgba(60, 64, 67, 0.3), 0px 1px 3px 1px rgba(60, 64, 67, 0.15);\n",
              "      fill: #174EA6;\n",
              "    }\n",
              "\n",
              "    .colab-df-buttons div {\n",
              "      margin-bottom: 4px;\n",
              "    }\n",
              "\n",
              "    [theme=dark] .colab-df-convert {\n",
              "      background-color: #3B4455;\n",
              "      fill: #D2E3FC;\n",
              "    }\n",
              "\n",
              "    [theme=dark] .colab-df-convert:hover {\n",
              "      background-color: #434B5C;\n",
              "      box-shadow: 0px 1px 3px 1px rgba(0, 0, 0, 0.15);\n",
              "      filter: drop-shadow(0px 1px 2px rgba(0, 0, 0, 0.3));\n",
              "      fill: #FFFFFF;\n",
              "    }\n",
              "  </style>\n",
              "\n",
              "    <script>\n",
              "      const buttonEl =\n",
              "        document.querySelector('#df-514a9336-20c4-4776-904f-9e0df1fe0985 button.colab-df-convert');\n",
              "      buttonEl.style.display =\n",
              "        google.colab.kernel.accessAllowed ? 'block' : 'none';\n",
              "\n",
              "      async function convertToInteractive(key) {\n",
              "        const element = document.querySelector('#df-514a9336-20c4-4776-904f-9e0df1fe0985');\n",
              "        const dataTable =\n",
              "          await google.colab.kernel.invokeFunction('convertToInteractive',\n",
              "                                                    [key], {});\n",
              "        if (!dataTable) return;\n",
              "\n",
              "        const docLinkHtml = 'Like what you see? Visit the ' +\n",
              "          '<a target=\"_blank\" href=https://colab.research.google.com/notebooks/data_table.ipynb>data table notebook</a>'\n",
              "          + ' to learn more about interactive tables.';\n",
              "        element.innerHTML = '';\n",
              "        dataTable['output_type'] = 'display_data';\n",
              "        await google.colab.output.renderOutput(dataTable, element);\n",
              "        const docLink = document.createElement('div');\n",
              "        docLink.innerHTML = docLinkHtml;\n",
              "        element.appendChild(docLink);\n",
              "      }\n",
              "    </script>\n",
              "  </div>\n",
              "\n",
              "\n",
              "<div id=\"df-c721bd23-7060-4631-8dad-1268f959d933\">\n",
              "  <button class=\"colab-df-quickchart\" onclick=\"quickchart('df-c721bd23-7060-4631-8dad-1268f959d933')\"\n",
              "            title=\"Suggest charts\"\n",
              "            style=\"display:none;\">\n",
              "\n",
              "<svg xmlns=\"http://www.w3.org/2000/svg\" height=\"24px\"viewBox=\"0 0 24 24\"\n",
              "     width=\"24px\">\n",
              "    <g>\n",
              "        <path d=\"M19 3H5c-1.1 0-2 .9-2 2v14c0 1.1.9 2 2 2h14c1.1 0 2-.9 2-2V5c0-1.1-.9-2-2-2zM9 17H7v-7h2v7zm4 0h-2V7h2v10zm4 0h-2v-4h2v4z\"/>\n",
              "    </g>\n",
              "</svg>\n",
              "  </button>\n",
              "\n",
              "<style>\n",
              "  .colab-df-quickchart {\n",
              "      --bg-color: #E8F0FE;\n",
              "      --fill-color: #1967D2;\n",
              "      --hover-bg-color: #E2EBFA;\n",
              "      --hover-fill-color: #174EA6;\n",
              "      --disabled-fill-color: #AAA;\n",
              "      --disabled-bg-color: #DDD;\n",
              "  }\n",
              "\n",
              "  [theme=dark] .colab-df-quickchart {\n",
              "      --bg-color: #3B4455;\n",
              "      --fill-color: #D2E3FC;\n",
              "      --hover-bg-color: #434B5C;\n",
              "      --hover-fill-color: #FFFFFF;\n",
              "      --disabled-bg-color: #3B4455;\n",
              "      --disabled-fill-color: #666;\n",
              "  }\n",
              "\n",
              "  .colab-df-quickchart {\n",
              "    background-color: var(--bg-color);\n",
              "    border: none;\n",
              "    border-radius: 50%;\n",
              "    cursor: pointer;\n",
              "    display: none;\n",
              "    fill: var(--fill-color);\n",
              "    height: 32px;\n",
              "    padding: 0;\n",
              "    width: 32px;\n",
              "  }\n",
              "\n",
              "  .colab-df-quickchart:hover {\n",
              "    background-color: var(--hover-bg-color);\n",
              "    box-shadow: 0 1px 2px rgba(60, 64, 67, 0.3), 0 1px 3px 1px rgba(60, 64, 67, 0.15);\n",
              "    fill: var(--button-hover-fill-color);\n",
              "  }\n",
              "\n",
              "  .colab-df-quickchart-complete:disabled,\n",
              "  .colab-df-quickchart-complete:disabled:hover {\n",
              "    background-color: var(--disabled-bg-color);\n",
              "    fill: var(--disabled-fill-color);\n",
              "    box-shadow: none;\n",
              "  }\n",
              "\n",
              "  .colab-df-spinner {\n",
              "    border: 2px solid var(--fill-color);\n",
              "    border-color: transparent;\n",
              "    border-bottom-color: var(--fill-color);\n",
              "    animation:\n",
              "      spin 1s steps(1) infinite;\n",
              "  }\n",
              "\n",
              "  @keyframes spin {\n",
              "    0% {\n",
              "      border-color: transparent;\n",
              "      border-bottom-color: var(--fill-color);\n",
              "      border-left-color: var(--fill-color);\n",
              "    }\n",
              "    20% {\n",
              "      border-color: transparent;\n",
              "      border-left-color: var(--fill-color);\n",
              "      border-top-color: var(--fill-color);\n",
              "    }\n",
              "    30% {\n",
              "      border-color: transparent;\n",
              "      border-left-color: var(--fill-color);\n",
              "      border-top-color: var(--fill-color);\n",
              "      border-right-color: var(--fill-color);\n",
              "    }\n",
              "    40% {\n",
              "      border-color: transparent;\n",
              "      border-right-color: var(--fill-color);\n",
              "      border-top-color: var(--fill-color);\n",
              "    }\n",
              "    60% {\n",
              "      border-color: transparent;\n",
              "      border-right-color: var(--fill-color);\n",
              "    }\n",
              "    80% {\n",
              "      border-color: transparent;\n",
              "      border-right-color: var(--fill-color);\n",
              "      border-bottom-color: var(--fill-color);\n",
              "    }\n",
              "    90% {\n",
              "      border-color: transparent;\n",
              "      border-bottom-color: var(--fill-color);\n",
              "    }\n",
              "  }\n",
              "</style>\n",
              "\n",
              "  <script>\n",
              "    async function quickchart(key) {\n",
              "      const quickchartButtonEl =\n",
              "        document.querySelector('#' + key + ' button');\n",
              "      quickchartButtonEl.disabled = true;  // To prevent multiple clicks.\n",
              "      quickchartButtonEl.classList.add('colab-df-spinner');\n",
              "      try {\n",
              "        const charts = await google.colab.kernel.invokeFunction(\n",
              "            'suggestCharts', [key], {});\n",
              "      } catch (error) {\n",
              "        console.error('Error during call to suggestCharts:', error);\n",
              "      }\n",
              "      quickchartButtonEl.classList.remove('colab-df-spinner');\n",
              "      quickchartButtonEl.classList.add('colab-df-quickchart-complete');\n",
              "    }\n",
              "    (() => {\n",
              "      let quickchartButtonEl =\n",
              "        document.querySelector('#df-c721bd23-7060-4631-8dad-1268f959d933 button');\n",
              "      quickchartButtonEl.style.display =\n",
              "        google.colab.kernel.accessAllowed ? 'block' : 'none';\n",
              "    })();\n",
              "  </script>\n",
              "</div>\n",
              "\n",
              "    </div>\n",
              "  </div>\n"
            ],
            "application/vnd.google.colaboratory.intrinsic+json": {
              "type": "dataframe",
              "variable_name": "df",
              "summary": "{\n  \"name\": \"df\",\n  \"rows\": 11933,\n  \"fields\": [\n    {\n      \"column\": \"SEQN\",\n      \"properties\": {\n        \"dtype\": \"number\",\n        \"std\": 3444.90471566341,\n        \"min\": 130378.0,\n        \"max\": 142310.0,\n        \"num_unique_values\": 11933,\n        \"samples\": [\n          140550.0,\n          140700.0,\n          139573.0\n        ],\n        \"semantic_type\": \"\",\n        \"description\": \"\"\n      }\n    },\n    {\n      \"column\": \"DMDMARTZ\",\n      \"properties\": {\n        \"dtype\": \"number\",\n        \"std\": 3.1010797398217225,\n        \"min\": 1.0,\n        \"max\": 99.0,\n        \"num_unique_values\": 5,\n        \"samples\": [\n          3.0,\n          77.0,\n          2.0\n        ],\n        \"semantic_type\": \"\",\n        \"description\": \"\"\n      }\n    },\n    {\n      \"column\": \"DMDEDUC2\",\n      \"properties\": {\n        \"dtype\": \"number\",\n        \"std\": 1.1537500073532598,\n        \"min\": 1.0,\n        \"max\": 9.0,\n        \"num_unique_values\": 6,\n        \"samples\": [\n          5.0,\n          3.0,\n          9.0\n        ],\n        \"semantic_type\": \"\",\n        \"description\": \"\"\n      }\n    },\n    {\n      \"column\": \"RIDAGEYR\",\n      \"properties\": {\n        \"dtype\": \"number\",\n        \"std\": 25.60199011389104,\n        \"min\": 5.397605346934028e-79,\n        \"max\": 80.0,\n        \"num_unique_values\": 81,\n        \"samples\": [\n          53.0,\n          43.0,\n          73.0\n        ],\n        \"semantic_type\": \"\",\n        \"description\": \"\"\n      }\n    },\n    {\n      \"column\": \"BPXOSY3\",\n      \"properties\": {\n        \"dtype\": \"number\",\n        \"std\": 18.495220309577363,\n        \"min\": 50.0,\n        \"max\": 232.0,\n        \"num_unique_values\": 146,\n        \"samples\": [\n          126.0,\n          80.0,\n          141.0\n        ],\n        \"semantic_type\": \"\",\n        \"description\": \"\"\n      }\n    },\n    {\n      \"column\": \"BPXODI3\",\n      \"properties\": {\n        \"dtype\": \"number\",\n        \"std\": 11.767401569364159,\n        \"min\": 24.0,\n        \"max\": 136.0,\n        \"num_unique_values\": 93,\n        \"samples\": [\n          90.0,\n          79.0,\n          55.0\n        ],\n        \"semantic_type\": \"\",\n        \"description\": \"\"\n      }\n    },\n    {\n      \"column\": \"LBXHBS\",\n      \"properties\": {\n        \"dtype\": \"number\",\n        \"std\": 0.44765625732714415,\n        \"min\": 1.0,\n        \"max\": 2.0,\n        \"num_unique_values\": 2,\n        \"samples\": [\n          1.0,\n          2.0\n        ],\n        \"semantic_type\": \"\",\n        \"description\": \"\"\n      }\n    },\n    {\n      \"column\": \"KIQ022\",\n      \"properties\": {\n        \"dtype\": \"number\",\n        \"std\": 0.34908174073006465,\n        \"min\": 1.0,\n        \"max\": 9.0,\n        \"num_unique_values\": 3,\n        \"samples\": [\n          2.0,\n          1.0\n        ],\n        \"semantic_type\": \"\",\n        \"description\": \"\"\n      }\n    },\n    {\n      \"column\": \"PAD680\",\n      \"properties\": {\n        \"dtype\": \"number\",\n        \"std\": 917.4641531050206,\n        \"min\": 5.397605346934028e-79,\n        \"max\": 9999.0,\n        \"num_unique_values\": 52,\n        \"samples\": [\n          200.0,\n          3.0\n        ],\n        \"semantic_type\": \"\",\n        \"description\": \"\"\n      }\n    },\n    {\n      \"column\": \"LBDVD2LC\",\n      \"properties\": {\n        \"dtype\": \"number\",\n        \"std\": 0.3985416238169785,\n        \"min\": 5.397605346934028e-79,\n        \"max\": 1.0,\n        \"num_unique_values\": 2,\n        \"samples\": [\n          5.397605346934028e-79,\n          1.0\n        ],\n        \"semantic_type\": \"\",\n        \"description\": \"\"\n      }\n    },\n    {\n      \"column\": \"WHD020\",\n      \"properties\": {\n        \"dtype\": \"number\",\n        \"std\": 1120.4765501370566,\n        \"min\": 63.0,\n        \"max\": 9999.0,\n        \"num_unique_values\": 273,\n        \"samples\": [\n          136.0,\n          202.0\n        ],\n        \"semantic_type\": \"\",\n        \"description\": \"\"\n      }\n    }\n  ]\n}"
            }
          },
          "metadata": {},
          "execution_count": 12
        }
      ]
    },
    {
      "cell_type": "code",
      "source": [
        "# Recode categorical variables to prepare them for analysis\n",
        "# Recode Marital Status (1 as 'Married', others as 'Not Married')\n",
        "df['Marital_Status'] = df['DMDMARTZ'].apply(lambda x: 'Married' if x == 1 else 'Not Married')\n",
        "# Recode Education Level (4 and above as 'Bachelor\\'s or Higher', others as 'Less than Bachelor\\'s')\n",
        "df['Education_Level'] = df['DMDEDUC2'].apply(lambda x: 'Bachelor\\'s or Higher' if x >= 4 else 'Less than Bachelor\\'s')\n",
        "# Recode Vitamin D Level (1 as 'Low', others as 'High')\n",
        "df['VitaminD_Level'] = df['LBDVD2LC'].apply(lambda x: 'Low' if x == 1 else 'High')\n",
        "# Recode Hepatitis B Antibodies (1 as 'Positive', others as 'Negative')\n",
        "df['HepB_Antibodies'] = df['LBXHBS'].apply(lambda x: 'Positive' if x == 1 else 'Negative')\n",
        "# Recode Kidney Status (1 as 'Yes', 2 as 'No', others as 'Unknown')\n",
        "df['Kidney_Status'] = df['KIQ022'].apply(lambda x: 'Yes' if x == 1 else ('No' if x == 2 else 'Unknown'))\n",
        "\n",
        "df.head()"
      ],
      "metadata": {
        "colab": {
          "base_uri": "https://localhost:8080/",
          "height": 313
        },
        "id": "kBv3594o7BiE",
        "outputId": "5db82735-a051-4ddc-c55a-9c40cea51eae"
      },
      "execution_count": null,
      "outputs": [
        {
          "output_type": "execute_result",
          "data": {
            "text/plain": [
              "       SEQN  DMDMARTZ  DMDEDUC2  RIDAGEYR  BPXOSY3  BPXODI3  LBXHBS  KIQ022  \\\n",
              "0  130378.0       1.0       5.0      43.0    132.0     94.0     2.0     2.0   \n",
              "1  130379.0       1.0       5.0      66.0    113.0     76.0     2.0     2.0   \n",
              "2  130380.0       1.0       3.0      44.0    104.0     76.0     2.0     2.0   \n",
              "3  130381.0       NaN       NaN       5.0      NaN      NaN     NaN     NaN   \n",
              "4  130382.0       NaN       NaN       2.0      NaN      NaN     2.0     NaN   \n",
              "\n",
              "   PAD680  LBDVD2LC  WHD020 Marital_Status       Education_Level  \\\n",
              "0   360.0       1.0   190.0        Married  Bachelor's or Higher   \n",
              "1   480.0       1.0   220.0        Married  Bachelor's or Higher   \n",
              "2   240.0       1.0   150.0        Married  Less than Bachelor's   \n",
              "3     NaN       NaN     NaN    Not Married  Less than Bachelor's   \n",
              "4     NaN       NaN     NaN    Not Married  Less than Bachelor's   \n",
              "\n",
              "  VitaminD_Level HepB_Antibodies Kidney_Status  \n",
              "0            Low        Negative            No  \n",
              "1            Low        Negative            No  \n",
              "2            Low        Negative            No  \n",
              "3           High        Negative       Unknown  \n",
              "4           High        Negative       Unknown  "
            ],
            "text/html": [
              "\n",
              "  <div id=\"df-0ef8b280-9335-43cb-a917-480241d9d5e0\" class=\"colab-df-container\">\n",
              "    <div>\n",
              "<style scoped>\n",
              "    .dataframe tbody tr th:only-of-type {\n",
              "        vertical-align: middle;\n",
              "    }\n",
              "\n",
              "    .dataframe tbody tr th {\n",
              "        vertical-align: top;\n",
              "    }\n",
              "\n",
              "    .dataframe thead th {\n",
              "        text-align: right;\n",
              "    }\n",
              "</style>\n",
              "<table border=\"1\" class=\"dataframe\">\n",
              "  <thead>\n",
              "    <tr style=\"text-align: right;\">\n",
              "      <th></th>\n",
              "      <th>SEQN</th>\n",
              "      <th>DMDMARTZ</th>\n",
              "      <th>DMDEDUC2</th>\n",
              "      <th>RIDAGEYR</th>\n",
              "      <th>BPXOSY3</th>\n",
              "      <th>BPXODI3</th>\n",
              "      <th>LBXHBS</th>\n",
              "      <th>KIQ022</th>\n",
              "      <th>PAD680</th>\n",
              "      <th>LBDVD2LC</th>\n",
              "      <th>WHD020</th>\n",
              "      <th>Marital_Status</th>\n",
              "      <th>Education_Level</th>\n",
              "      <th>VitaminD_Level</th>\n",
              "      <th>HepB_Antibodies</th>\n",
              "      <th>Kidney_Status</th>\n",
              "    </tr>\n",
              "  </thead>\n",
              "  <tbody>\n",
              "    <tr>\n",
              "      <th>0</th>\n",
              "      <td>130378.0</td>\n",
              "      <td>1.0</td>\n",
              "      <td>5.0</td>\n",
              "      <td>43.0</td>\n",
              "      <td>132.0</td>\n",
              "      <td>94.0</td>\n",
              "      <td>2.0</td>\n",
              "      <td>2.0</td>\n",
              "      <td>360.0</td>\n",
              "      <td>1.0</td>\n",
              "      <td>190.0</td>\n",
              "      <td>Married</td>\n",
              "      <td>Bachelor's or Higher</td>\n",
              "      <td>Low</td>\n",
              "      <td>Negative</td>\n",
              "      <td>No</td>\n",
              "    </tr>\n",
              "    <tr>\n",
              "      <th>1</th>\n",
              "      <td>130379.0</td>\n",
              "      <td>1.0</td>\n",
              "      <td>5.0</td>\n",
              "      <td>66.0</td>\n",
              "      <td>113.0</td>\n",
              "      <td>76.0</td>\n",
              "      <td>2.0</td>\n",
              "      <td>2.0</td>\n",
              "      <td>480.0</td>\n",
              "      <td>1.0</td>\n",
              "      <td>220.0</td>\n",
              "      <td>Married</td>\n",
              "      <td>Bachelor's or Higher</td>\n",
              "      <td>Low</td>\n",
              "      <td>Negative</td>\n",
              "      <td>No</td>\n",
              "    </tr>\n",
              "    <tr>\n",
              "      <th>2</th>\n",
              "      <td>130380.0</td>\n",
              "      <td>1.0</td>\n",
              "      <td>3.0</td>\n",
              "      <td>44.0</td>\n",
              "      <td>104.0</td>\n",
              "      <td>76.0</td>\n",
              "      <td>2.0</td>\n",
              "      <td>2.0</td>\n",
              "      <td>240.0</td>\n",
              "      <td>1.0</td>\n",
              "      <td>150.0</td>\n",
              "      <td>Married</td>\n",
              "      <td>Less than Bachelor's</td>\n",
              "      <td>Low</td>\n",
              "      <td>Negative</td>\n",
              "      <td>No</td>\n",
              "    </tr>\n",
              "    <tr>\n",
              "      <th>3</th>\n",
              "      <td>130381.0</td>\n",
              "      <td>NaN</td>\n",
              "      <td>NaN</td>\n",
              "      <td>5.0</td>\n",
              "      <td>NaN</td>\n",
              "      <td>NaN</td>\n",
              "      <td>NaN</td>\n",
              "      <td>NaN</td>\n",
              "      <td>NaN</td>\n",
              "      <td>NaN</td>\n",
              "      <td>NaN</td>\n",
              "      <td>Not Married</td>\n",
              "      <td>Less than Bachelor's</td>\n",
              "      <td>High</td>\n",
              "      <td>Negative</td>\n",
              "      <td>Unknown</td>\n",
              "    </tr>\n",
              "    <tr>\n",
              "      <th>4</th>\n",
              "      <td>130382.0</td>\n",
              "      <td>NaN</td>\n",
              "      <td>NaN</td>\n",
              "      <td>2.0</td>\n",
              "      <td>NaN</td>\n",
              "      <td>NaN</td>\n",
              "      <td>2.0</td>\n",
              "      <td>NaN</td>\n",
              "      <td>NaN</td>\n",
              "      <td>NaN</td>\n",
              "      <td>NaN</td>\n",
              "      <td>Not Married</td>\n",
              "      <td>Less than Bachelor's</td>\n",
              "      <td>High</td>\n",
              "      <td>Negative</td>\n",
              "      <td>Unknown</td>\n",
              "    </tr>\n",
              "  </tbody>\n",
              "</table>\n",
              "</div>\n",
              "    <div class=\"colab-df-buttons\">\n",
              "\n",
              "  <div class=\"colab-df-container\">\n",
              "    <button class=\"colab-df-convert\" onclick=\"convertToInteractive('df-0ef8b280-9335-43cb-a917-480241d9d5e0')\"\n",
              "            title=\"Convert this dataframe to an interactive table.\"\n",
              "            style=\"display:none;\">\n",
              "\n",
              "  <svg xmlns=\"http://www.w3.org/2000/svg\" height=\"24px\" viewBox=\"0 -960 960 960\">\n",
              "    <path d=\"M120-120v-720h720v720H120Zm60-500h600v-160H180v160Zm220 220h160v-160H400v160Zm0 220h160v-160H400v160ZM180-400h160v-160H180v160Zm440 0h160v-160H620v160ZM180-180h160v-160H180v160Zm440 0h160v-160H620v160Z\"/>\n",
              "  </svg>\n",
              "    </button>\n",
              "\n",
              "  <style>\n",
              "    .colab-df-container {\n",
              "      display:flex;\n",
              "      gap: 12px;\n",
              "    }\n",
              "\n",
              "    .colab-df-convert {\n",
              "      background-color: #E8F0FE;\n",
              "      border: none;\n",
              "      border-radius: 50%;\n",
              "      cursor: pointer;\n",
              "      display: none;\n",
              "      fill: #1967D2;\n",
              "      height: 32px;\n",
              "      padding: 0 0 0 0;\n",
              "      width: 32px;\n",
              "    }\n",
              "\n",
              "    .colab-df-convert:hover {\n",
              "      background-color: #E2EBFA;\n",
              "      box-shadow: 0px 1px 2px rgba(60, 64, 67, 0.3), 0px 1px 3px 1px rgba(60, 64, 67, 0.15);\n",
              "      fill: #174EA6;\n",
              "    }\n",
              "\n",
              "    .colab-df-buttons div {\n",
              "      margin-bottom: 4px;\n",
              "    }\n",
              "\n",
              "    [theme=dark] .colab-df-convert {\n",
              "      background-color: #3B4455;\n",
              "      fill: #D2E3FC;\n",
              "    }\n",
              "\n",
              "    [theme=dark] .colab-df-convert:hover {\n",
              "      background-color: #434B5C;\n",
              "      box-shadow: 0px 1px 3px 1px rgba(0, 0, 0, 0.15);\n",
              "      filter: drop-shadow(0px 1px 2px rgba(0, 0, 0, 0.3));\n",
              "      fill: #FFFFFF;\n",
              "    }\n",
              "  </style>\n",
              "\n",
              "    <script>\n",
              "      const buttonEl =\n",
              "        document.querySelector('#df-0ef8b280-9335-43cb-a917-480241d9d5e0 button.colab-df-convert');\n",
              "      buttonEl.style.display =\n",
              "        google.colab.kernel.accessAllowed ? 'block' : 'none';\n",
              "\n",
              "      async function convertToInteractive(key) {\n",
              "        const element = document.querySelector('#df-0ef8b280-9335-43cb-a917-480241d9d5e0');\n",
              "        const dataTable =\n",
              "          await google.colab.kernel.invokeFunction('convertToInteractive',\n",
              "                                                    [key], {});\n",
              "        if (!dataTable) return;\n",
              "\n",
              "        const docLinkHtml = 'Like what you see? Visit the ' +\n",
              "          '<a target=\"_blank\" href=https://colab.research.google.com/notebooks/data_table.ipynb>data table notebook</a>'\n",
              "          + ' to learn more about interactive tables.';\n",
              "        element.innerHTML = '';\n",
              "        dataTable['output_type'] = 'display_data';\n",
              "        await google.colab.output.renderOutput(dataTable, element);\n",
              "        const docLink = document.createElement('div');\n",
              "        docLink.innerHTML = docLinkHtml;\n",
              "        element.appendChild(docLink);\n",
              "      }\n",
              "    </script>\n",
              "  </div>\n",
              "\n",
              "\n",
              "<div id=\"df-883f846d-beb9-447d-827e-6adc84e28221\">\n",
              "  <button class=\"colab-df-quickchart\" onclick=\"quickchart('df-883f846d-beb9-447d-827e-6adc84e28221')\"\n",
              "            title=\"Suggest charts\"\n",
              "            style=\"display:none;\">\n",
              "\n",
              "<svg xmlns=\"http://www.w3.org/2000/svg\" height=\"24px\"viewBox=\"0 0 24 24\"\n",
              "     width=\"24px\">\n",
              "    <g>\n",
              "        <path d=\"M19 3H5c-1.1 0-2 .9-2 2v14c0 1.1.9 2 2 2h14c1.1 0 2-.9 2-2V5c0-1.1-.9-2-2-2zM9 17H7v-7h2v7zm4 0h-2V7h2v10zm4 0h-2v-4h2v4z\"/>\n",
              "    </g>\n",
              "</svg>\n",
              "  </button>\n",
              "\n",
              "<style>\n",
              "  .colab-df-quickchart {\n",
              "      --bg-color: #E8F0FE;\n",
              "      --fill-color: #1967D2;\n",
              "      --hover-bg-color: #E2EBFA;\n",
              "      --hover-fill-color: #174EA6;\n",
              "      --disabled-fill-color: #AAA;\n",
              "      --disabled-bg-color: #DDD;\n",
              "  }\n",
              "\n",
              "  [theme=dark] .colab-df-quickchart {\n",
              "      --bg-color: #3B4455;\n",
              "      --fill-color: #D2E3FC;\n",
              "      --hover-bg-color: #434B5C;\n",
              "      --hover-fill-color: #FFFFFF;\n",
              "      --disabled-bg-color: #3B4455;\n",
              "      --disabled-fill-color: #666;\n",
              "  }\n",
              "\n",
              "  .colab-df-quickchart {\n",
              "    background-color: var(--bg-color);\n",
              "    border: none;\n",
              "    border-radius: 50%;\n",
              "    cursor: pointer;\n",
              "    display: none;\n",
              "    fill: var(--fill-color);\n",
              "    height: 32px;\n",
              "    padding: 0;\n",
              "    width: 32px;\n",
              "  }\n",
              "\n",
              "  .colab-df-quickchart:hover {\n",
              "    background-color: var(--hover-bg-color);\n",
              "    box-shadow: 0 1px 2px rgba(60, 64, 67, 0.3), 0 1px 3px 1px rgba(60, 64, 67, 0.15);\n",
              "    fill: var(--button-hover-fill-color);\n",
              "  }\n",
              "\n",
              "  .colab-df-quickchart-complete:disabled,\n",
              "  .colab-df-quickchart-complete:disabled:hover {\n",
              "    background-color: var(--disabled-bg-color);\n",
              "    fill: var(--disabled-fill-color);\n",
              "    box-shadow: none;\n",
              "  }\n",
              "\n",
              "  .colab-df-spinner {\n",
              "    border: 2px solid var(--fill-color);\n",
              "    border-color: transparent;\n",
              "    border-bottom-color: var(--fill-color);\n",
              "    animation:\n",
              "      spin 1s steps(1) infinite;\n",
              "  }\n",
              "\n",
              "  @keyframes spin {\n",
              "    0% {\n",
              "      border-color: transparent;\n",
              "      border-bottom-color: var(--fill-color);\n",
              "      border-left-color: var(--fill-color);\n",
              "    }\n",
              "    20% {\n",
              "      border-color: transparent;\n",
              "      border-left-color: var(--fill-color);\n",
              "      border-top-color: var(--fill-color);\n",
              "    }\n",
              "    30% {\n",
              "      border-color: transparent;\n",
              "      border-left-color: var(--fill-color);\n",
              "      border-top-color: var(--fill-color);\n",
              "      border-right-color: var(--fill-color);\n",
              "    }\n",
              "    40% {\n",
              "      border-color: transparent;\n",
              "      border-right-color: var(--fill-color);\n",
              "      border-top-color: var(--fill-color);\n",
              "    }\n",
              "    60% {\n",
              "      border-color: transparent;\n",
              "      border-right-color: var(--fill-color);\n",
              "    }\n",
              "    80% {\n",
              "      border-color: transparent;\n",
              "      border-right-color: var(--fill-color);\n",
              "      border-bottom-color: var(--fill-color);\n",
              "    }\n",
              "    90% {\n",
              "      border-color: transparent;\n",
              "      border-bottom-color: var(--fill-color);\n",
              "    }\n",
              "  }\n",
              "</style>\n",
              "\n",
              "  <script>\n",
              "    async function quickchart(key) {\n",
              "      const quickchartButtonEl =\n",
              "        document.querySelector('#' + key + ' button');\n",
              "      quickchartButtonEl.disabled = true;  // To prevent multiple clicks.\n",
              "      quickchartButtonEl.classList.add('colab-df-spinner');\n",
              "      try {\n",
              "        const charts = await google.colab.kernel.invokeFunction(\n",
              "            'suggestCharts', [key], {});\n",
              "      } catch (error) {\n",
              "        console.error('Error during call to suggestCharts:', error);\n",
              "      }\n",
              "      quickchartButtonEl.classList.remove('colab-df-spinner');\n",
              "      quickchartButtonEl.classList.add('colab-df-quickchart-complete');\n",
              "    }\n",
              "    (() => {\n",
              "      let quickchartButtonEl =\n",
              "        document.querySelector('#df-883f846d-beb9-447d-827e-6adc84e28221 button');\n",
              "      quickchartButtonEl.style.display =\n",
              "        google.colab.kernel.accessAllowed ? 'block' : 'none';\n",
              "    })();\n",
              "  </script>\n",
              "</div>\n",
              "\n",
              "    </div>\n",
              "  </div>\n"
            ],
            "application/vnd.google.colaboratory.intrinsic+json": {
              "type": "dataframe",
              "variable_name": "df",
              "summary": "{\n  \"name\": \"df\",\n  \"rows\": 11933,\n  \"fields\": [\n    {\n      \"column\": \"SEQN\",\n      \"properties\": {\n        \"dtype\": \"number\",\n        \"std\": 3444.90471566341,\n        \"min\": 130378.0,\n        \"max\": 142310.0,\n        \"num_unique_values\": 11933,\n        \"samples\": [\n          140550.0,\n          140700.0,\n          139573.0\n        ],\n        \"semantic_type\": \"\",\n        \"description\": \"\"\n      }\n    },\n    {\n      \"column\": \"DMDMARTZ\",\n      \"properties\": {\n        \"dtype\": \"number\",\n        \"std\": 3.1010797398217225,\n        \"min\": 1.0,\n        \"max\": 99.0,\n        \"num_unique_values\": 5,\n        \"samples\": [\n          3.0,\n          77.0,\n          2.0\n        ],\n        \"semantic_type\": \"\",\n        \"description\": \"\"\n      }\n    },\n    {\n      \"column\": \"DMDEDUC2\",\n      \"properties\": {\n        \"dtype\": \"number\",\n        \"std\": 1.1537500073532598,\n        \"min\": 1.0,\n        \"max\": 9.0,\n        \"num_unique_values\": 6,\n        \"samples\": [\n          5.0,\n          3.0,\n          9.0\n        ],\n        \"semantic_type\": \"\",\n        \"description\": \"\"\n      }\n    },\n    {\n      \"column\": \"RIDAGEYR\",\n      \"properties\": {\n        \"dtype\": \"number\",\n        \"std\": 25.60199011389104,\n        \"min\": 5.397605346934028e-79,\n        \"max\": 80.0,\n        \"num_unique_values\": 81,\n        \"samples\": [\n          53.0,\n          43.0,\n          73.0\n        ],\n        \"semantic_type\": \"\",\n        \"description\": \"\"\n      }\n    },\n    {\n      \"column\": \"BPXOSY3\",\n      \"properties\": {\n        \"dtype\": \"number\",\n        \"std\": 18.495220309577363,\n        \"min\": 50.0,\n        \"max\": 232.0,\n        \"num_unique_values\": 146,\n        \"samples\": [\n          126.0,\n          80.0,\n          141.0\n        ],\n        \"semantic_type\": \"\",\n        \"description\": \"\"\n      }\n    },\n    {\n      \"column\": \"BPXODI3\",\n      \"properties\": {\n        \"dtype\": \"number\",\n        \"std\": 11.767401569364159,\n        \"min\": 24.0,\n        \"max\": 136.0,\n        \"num_unique_values\": 93,\n        \"samples\": [\n          90.0,\n          79.0,\n          55.0\n        ],\n        \"semantic_type\": \"\",\n        \"description\": \"\"\n      }\n    },\n    {\n      \"column\": \"LBXHBS\",\n      \"properties\": {\n        \"dtype\": \"number\",\n        \"std\": 0.44765625732714415,\n        \"min\": 1.0,\n        \"max\": 2.0,\n        \"num_unique_values\": 2,\n        \"samples\": [\n          1.0,\n          2.0\n        ],\n        \"semantic_type\": \"\",\n        \"description\": \"\"\n      }\n    },\n    {\n      \"column\": \"KIQ022\",\n      \"properties\": {\n        \"dtype\": \"number\",\n        \"std\": 0.34908174073006465,\n        \"min\": 1.0,\n        \"max\": 9.0,\n        \"num_unique_values\": 3,\n        \"samples\": [\n          2.0,\n          1.0\n        ],\n        \"semantic_type\": \"\",\n        \"description\": \"\"\n      }\n    },\n    {\n      \"column\": \"PAD680\",\n      \"properties\": {\n        \"dtype\": \"number\",\n        \"std\": 917.4641531050206,\n        \"min\": 5.397605346934028e-79,\n        \"max\": 9999.0,\n        \"num_unique_values\": 52,\n        \"samples\": [\n          200.0,\n          3.0\n        ],\n        \"semantic_type\": \"\",\n        \"description\": \"\"\n      }\n    },\n    {\n      \"column\": \"LBDVD2LC\",\n      \"properties\": {\n        \"dtype\": \"number\",\n        \"std\": 0.3985416238169785,\n        \"min\": 5.397605346934028e-79,\n        \"max\": 1.0,\n        \"num_unique_values\": 2,\n        \"samples\": [\n          5.397605346934028e-79,\n          1.0\n        ],\n        \"semantic_type\": \"\",\n        \"description\": \"\"\n      }\n    },\n    {\n      \"column\": \"WHD020\",\n      \"properties\": {\n        \"dtype\": \"number\",\n        \"std\": 1120.4765501370566,\n        \"min\": 63.0,\n        \"max\": 9999.0,\n        \"num_unique_values\": 273,\n        \"samples\": [\n          136.0,\n          202.0\n        ],\n        \"semantic_type\": \"\",\n        \"description\": \"\"\n      }\n    },\n    {\n      \"column\": \"Marital_Status\",\n      \"properties\": {\n        \"dtype\": \"category\",\n        \"num_unique_values\": 2,\n        \"samples\": [\n          \"Not Married\",\n          \"Married\"\n        ],\n        \"semantic_type\": \"\",\n        \"description\": \"\"\n      }\n    },\n    {\n      \"column\": \"Education_Level\",\n      \"properties\": {\n        \"dtype\": \"category\",\n        \"num_unique_values\": 2,\n        \"samples\": [\n          \"Less than Bachelor's\",\n          \"Bachelor's or Higher\"\n        ],\n        \"semantic_type\": \"\",\n        \"description\": \"\"\n      }\n    },\n    {\n      \"column\": \"VitaminD_Level\",\n      \"properties\": {\n        \"dtype\": \"category\",\n        \"num_unique_values\": 2,\n        \"samples\": [\n          \"High\",\n          \"Low\"\n        ],\n        \"semantic_type\": \"\",\n        \"description\": \"\"\n      }\n    },\n    {\n      \"column\": \"HepB_Antibodies\",\n      \"properties\": {\n        \"dtype\": \"category\",\n        \"num_unique_values\": 2,\n        \"samples\": [\n          \"Positive\",\n          \"Negative\"\n        ],\n        \"semantic_type\": \"\",\n        \"description\": \"\"\n      }\n    },\n    {\n      \"column\": \"Kidney_Status\",\n      \"properties\": {\n        \"dtype\": \"category\",\n        \"num_unique_values\": 3,\n        \"samples\": [\n          \"No\",\n          \"Unknown\"\n        ],\n        \"semantic_type\": \"\",\n        \"description\": \"\"\n      }\n    }\n  ]\n}"
            }
          },
          "metadata": {},
          "execution_count": 14
        }
      ]
    },
    {
      "cell_type": "code",
      "source": [
        "# Clean continuous variables by handling placeholder values and dropping NaNs\n",
        "# Replace placeholder values (7777 and 9999) in PAD680 (Sedentary Behavior) with NaN, then drop rows with NaNs\n",
        "df['PAD680'] = df['PAD680'].replace([7777, 9999], np.nan).dropna()\n",
        "# Replace placeholder values (7777 and 9999) in WHD020 (Self-Reported Weight) with NaN, then drop rows with NaNs\n",
        "df['WHD020'] = df['WHD020'].replace([7777, 9999], np.nan).dropna()\n",
        "# Drop any NaN values in RIDAGEYR (Age), as this is a required field for analysis\n",
        "df['RIDAGEYR'] = df['RIDAGEYR'].dropna()\n",
        "# Drop any NaN values in BPXOSY3 (Systolic Blood Pressure), required for analysis\n",
        "df['BPXOSY3'] = df['BPXOSY3'].dropna()\n",
        "# Drop any NaN values in BPXODI3 (Diastolic Blood Pressure), required for analysis\n",
        "df['BPXODI3'] = df['BPXODI3'].dropna()\n"
      ],
      "metadata": {
        "id": "jcvudwOi-JQ2"
      },
      "execution_count": null,
      "outputs": []
    },
    {
      "cell_type": "code",
      "source": [
        "# Check frequency counts for categorical variables to ensure data consistency\n",
        "# Display the count of each category for Marital_Status to ensure proper recoding\n",
        "print(df['Marital_Status'].value_counts())\n",
        "# Display the count of each category for Education_Level to confirm accuracy after recoding\n",
        "print(df['Education_Level'].value_counts())\n",
        "# Display the count of each category for VitaminD_Level to confirm appropriate recoding\n",
        "print(df['VitaminD_Level'].value_counts())\n",
        "# Display the count of each category for HepB_Antibodies to confirm correct recoding\n",
        "print(df['HepB_Antibodies'].value_counts())\n"
      ],
      "metadata": {
        "colab": {
          "base_uri": "https://localhost:8080/"
        },
        "id": "McrJXEtU-jG8",
        "outputId": "2fdc5383-f577-4730-c8a6-666be8379724"
      },
      "execution_count": null,
      "outputs": [
        {
          "output_type": "stream",
          "name": "stdout",
          "text": [
            "Marital_Status\n",
            "Not Married    7797\n",
            "Married        4136\n",
            "Name: count, dtype: int64\n",
            "Education_Level\n",
            "Less than Bachelor's    6927\n",
            "Bachelor's or Higher    5006\n",
            "Name: count, dtype: int64\n",
            "VitaminD_Level\n",
            "High    6073\n",
            "Low     5860\n",
            "Name: count, dtype: int64\n",
            "HepB_Antibodies\n",
            "Negative    9891\n",
            "Positive    2042\n",
            "Name: count, dtype: int64\n"
          ]
        }
      ]
    },
    {
      "cell_type": "code",
      "source": [
        "# Check summary statistics for continuous variables to understand their distributions\n",
        "# Show descriptive statistics for RIDAGEYR (Age) to verify data distribution\n",
        "print(df['RIDAGEYR'].describe())\n",
        "# Show descriptive statistics for BPXOSY3 (Systolic Blood Pressure) to assess data range and outliers\n",
        "print(df['BPXOSY3'].describe())\n",
        "# Show descriptive statistics for BPXODI3 (Diastolic Blood Pressure) to examine data distribution\n",
        "print(df['BPXODI3'].describe())\n",
        "# Show descriptive statistics for PAD680 (Sedentary Behavior Time) to check for data variability\n",
        "print(df['PAD680'].describe())\n",
        "# Show descriptive statistics for WHD020 (Self-Reported Weight) to assess data range and any anomalies\n",
        "print(df['WHD020'].describe())\n"
      ],
      "metadata": {
        "colab": {
          "base_uri": "https://localhost:8080/"
        },
        "id": "Uak2YzJa-1fT",
        "outputId": "63321377-bd12-4f50-f574-8a2696622729"
      },
      "execution_count": null,
      "outputs": [
        {
          "output_type": "stream",
          "name": "stdout",
          "text": [
            "count    1.193300e+04\n",
            "mean     3.831786e+01\n",
            "std      2.560199e+01\n",
            "min      5.397605e-79\n",
            "25%      1.300000e+01\n",
            "50%      3.700000e+01\n",
            "75%      6.200000e+01\n",
            "max      8.000000e+01\n",
            "Name: RIDAGEYR, dtype: float64\n",
            "count    7480.000000\n",
            "mean      118.917647\n",
            "std        18.495220\n",
            "min        50.000000\n",
            "25%       106.000000\n",
            "50%       116.000000\n",
            "75%       129.000000\n",
            "max       232.000000\n",
            "Name: BPXOSY3, dtype: float64\n",
            "count    7480.000000\n",
            "mean       71.805882\n",
            "std        11.767402\n",
            "min        24.000000\n",
            "25%        64.000000\n",
            "50%        71.000000\n",
            "75%        79.000000\n",
            "max       136.000000\n",
            "Name: BPXODI3, dtype: float64\n",
            "count    8.065000e+03\n",
            "mean     3.621761e+02\n",
            "std      2.100268e+02\n",
            "min      5.397605e-79\n",
            "25%      1.800000e+02\n",
            "50%      3.000000e+02\n",
            "75%      4.800000e+02\n",
            "max      1.380000e+03\n",
            "Name: PAD680, dtype: float64\n",
            "count    8358.000000\n",
            "mean      179.502273\n",
            "std        48.115718\n",
            "min        63.000000\n",
            "25%       145.000000\n",
            "50%       173.000000\n",
            "75%       205.000000\n",
            "max       530.000000\n",
            "Name: WHD020, dtype: float64\n"
          ]
        }
      ]
    },
    {
      "cell_type": "code",
      "source": [
        "df.to_csv('cleaned_nhanes_data.csv', index=False)\n"
      ],
      "metadata": {
        "id": "QmbjvELb-4uU"
      },
      "execution_count": null,
      "outputs": []
    },
    {
      "cell_type": "code",
      "source": [
        "# Question 1: Association between Marital Status and Education Level\n",
        "# Statistical Test: Chi-square test\n",
        "contingency_table = pd.crosstab(df['Marital_Status'], df['Education_Level'])\n",
        "chi2, p, dof, ex = chi2_contingency(contingency_table)\n",
        "print(f\"Chi-square: {chi2}, p-value: {p}\")\n",
        "\n"
      ],
      "metadata": {
        "colab": {
          "base_uri": "https://localhost:8080/"
        },
        "id": "pLQ75T_e_mXP",
        "outputId": "ada5abd6-33db-491a-f400-3a08c1be6bb9"
      },
      "execution_count": null,
      "outputs": [
        {
          "output_type": "stream",
          "name": "stdout",
          "text": [
            "Chi-square: 1670.19828938441, p-value: 0.0\n"
          ]
        }
      ]
    },
    {
      "cell_type": "markdown",
      "source": [
        "---\n",
        "\n",
        "### Question 1: Association between Marital Status and Education Level\n",
        "> **Statistical Test**: Chi-square test\n",
        "\n",
        "- **Chi-square statistic**: 1670.20\n",
        "- **p-value**: 0.0 (significant at p < 0.05)\n",
        "\n",
        "**Interpretation**:  \n",
        "The Chi-square test suggests a significant association between Marital Status and Education Level. This means that education level distribution is not independent of marital status in this dataset.\n",
        "\n",
        "---\n",
        "\n",
        "\n",
        "\n",
        "\n",
        "\n",
        "\n"
      ],
      "metadata": {
        "id": "q5KnD-20KhmJ"
      }
    },
    {
      "cell_type": "code",
      "source": [
        "# Question 2: Difference in Mean Sedentary Behavior Time by Marital Status\n",
        "# Statistical Test: Independent t-test.\n",
        "# Filter for 'Married' and 'Not Married', dropping any NaN values in PAD680\n",
        "married = df[df['Marital_Status'] == 'Married']['PAD680'].dropna()\n",
        "not_married = df[df['Marital_Status'] == 'Not Married']['PAD680'].dropna()\n",
        "\n",
        "# Perform the t-test\n",
        "t_stat, p_value = ttest_ind(married, not_married)\n",
        "print(f\"T-statistic: {t_stat}, p-value: {p_value}\")\n",
        "\n"
      ],
      "metadata": {
        "colab": {
          "base_uri": "https://localhost:8080/"
        },
        "id": "QcLbMunkBB_3",
        "outputId": "8f55c508-d244-41c8-accf-e0aa76484df7"
      },
      "execution_count": null,
      "outputs": [
        {
          "output_type": "stream",
          "name": "stdout",
          "text": [
            "T-statistic: -3.8740971309213887, p-value: 0.0001078679819334709\n"
          ]
        }
      ]
    },
    {
      "cell_type": "markdown",
      "source": [
        "---\n",
        "\n",
        "### Question 2: Difference in Mean Sedentary Behavior Time by Marital Status\n",
        "> **Statistical Test**: Independent t-test\n",
        "\n",
        "- **t-statistic**: -3.87\n",
        "- **p-value**: 0.0001 (significant at p < 0.05)\n",
        "\n",
        "**Interpretation**:  \n",
        "The t-test indicates a significant difference in sedentary behavior time between married and not married individuals, with married individuals having lower average sedentary time.\n",
        "\n",
        "---"
      ],
      "metadata": {
        "id": "idTdwq86MJ-E"
      }
    },
    {
      "cell_type": "code",
      "source": [
        "# Question 3: Impact of Age and Marital Status on Systolic Blood Pressure\n",
        "# Statistical Test: Two-way ANOVA\n",
        "import statsmodels.api as sm\n",
        "from statsmodels.formula.api import ols\n",
        "\n",
        "model = ols('BPXOSY3 ~ C(Marital_Status) * RIDAGEYR', data=df).fit()\n",
        "anova_table = sm.stats.anova_lm(model, typ=2)\n",
        "print(anova_table)\n"
      ],
      "metadata": {
        "colab": {
          "base_uri": "https://localhost:8080/"
        },
        "id": "3v2XFaGJDtl5",
        "outputId": "4a95a69d-dba9-4103-efb7-95bed8aa21a9"
      },
      "execution_count": null,
      "outputs": [
        {
          "output_type": "stream",
          "name": "stdout",
          "text": [
            "                                  sum_sq      df            F    PR(>F)\n",
            "C(Marital_Status)           1.737748e+03     1.0     6.861396  0.008826\n",
            "RIDAGEYR                    5.889160e+05     1.0  2325.300570  0.000000\n",
            "C(Marital_Status):RIDAGEYR  3.856374e+02     1.0     1.522667  0.217255\n",
            "Residual                    1.893405e+06  7476.0          NaN       NaN\n"
          ]
        }
      ]
    },
    {
      "cell_type": "markdown",
      "source": [
        "---\n",
        "\n",
        "### Question 3: Impact of Age and Marital Status on Systolic Blood Pressure\n",
        "> **Statistical Test**: Two-way ANOVA\n",
        "\n",
        "- **Marital Status**: Significant effect (p = 0.0088)\n",
        "- **Age**: Highly significant effect (p < 0.0001)\n",
        "- **Interaction (Marital Status * Age)**: Not significant (p = 0.217)\n",
        "\n",
        "**Interpretation**:  \n",
        "Both Age and Marital Status independently impact Systolic Blood Pressure. However, there’s no significant interaction effect, meaning the effect of Age on Systolic Blood Pressure is consistent across marital statuses.\n",
        "\n",
        "---"
      ],
      "metadata": {
        "id": "NnNW_rHiMoV9"
      }
    },
    {
      "cell_type": "code",
      "source": [
        "# Question 4: Correlation between Self-Reported Weight and Sedentary Behavior\n",
        "# Statistical Test: Pearson correlation\n",
        "# Drop rows with NaN values in WHD020 and PAD680\n",
        "df_cleaned = df[['WHD020', 'PAD680']].dropna()\n",
        "\n",
        "# Perform Pearson correlation on the cleaned data\n",
        "corr, p_value = pearsonr(df_cleaned['WHD020'], df_cleaned['PAD680'])\n",
        "print(f\"Pearson Correlation: {corr}, p-value: {p_value}\")\n",
        "\n"
      ],
      "metadata": {
        "colab": {
          "base_uri": "https://localhost:8080/"
        },
        "id": "bJKBcUYUEieM",
        "outputId": "0625338b-ddc6-4025-f7b9-8372ba9b170d"
      },
      "execution_count": null,
      "outputs": [
        {
          "output_type": "stream",
          "name": "stdout",
          "text": [
            "Pearson Correlation: 0.1559714584645021, p-value: 1.6988498386828133e-44\n"
          ]
        }
      ]
    },
    {
      "cell_type": "markdown",
      "source": [
        "---\n",
        "\n",
        "### Question 4: Correlation between Self-Reported Weight and Sedentary Behavior\n",
        "> **Statistical Test**: Pearson correlation\n",
        "\n",
        "- **Pearson Correlation Coefficient**: 0.156\n",
        "- **p-value**: < 0.0001 (significant)\n",
        "\n",
        "**Interpretation**:  \n",
        "There is a weak but statistically significant positive correlation between self-reported weight and sedentary behavior time, indicating a slight tendency for heavier individuals to have more sedentary time.\n",
        "\n",
        "---\n"
      ],
      "metadata": {
        "id": "-y22wpeUNQDM"
      }
    },
    {
      "cell_type": "code",
      "source": [
        "# Question 5: Is there a significant difference in diastolic blood pressure between those with and without weak/failing kidneys?\n",
        "# Statistical Test: Independent t-test\n",
        "# Filter for participants with and without kidney issues, dropping any NaN values in BPXODI3\n",
        "with_kidney_issue = df[(df['KIQ022'] == 1) & (df['BPXODI3'].notna())]['BPXODI3']\n",
        "without_kidney_issue = df[(df['KIQ022'] == 2) & (df['BPXODI3'].notna())]['BPXODI3']\n",
        "\n",
        "# Perform the t-test\n",
        "t_stat, p_value = ttest_ind(with_kidney_issue, without_kidney_issue)\n",
        "print(f\"T-statistic: {t_stat}, p-value: {p_value}\")\n",
        "\n"
      ],
      "metadata": {
        "colab": {
          "base_uri": "https://localhost:8080/"
        },
        "id": "jUDM2Q0aG1ZR",
        "outputId": "fc9034b5-583d-441a-ac81-491fb73727e2"
      },
      "execution_count": null,
      "outputs": [
        {
          "output_type": "stream",
          "name": "stdout",
          "text": [
            "T-statistic: -4.825487016983081, p-value: 1.4321801501025331e-06\n"
          ]
        }
      ]
    },
    {
      "cell_type": "markdown",
      "source": [
        "---\n",
        "\n",
        "### Question 5: Difference in Diastolic Blood Pressure by Kidney Status\n",
        "> **Statistical Test**: Independent t-test\n",
        "\n",
        "- **t-statistic**: -4.83\n",
        "- **p-value**: < 0.0001 (significant)\n",
        "\n",
        "**Interpretation**:  \n",
        "The t-test shows a significant difference in diastolic blood pressure between individuals with and without kidney issues, with those having kidney issues showing lower diastolic blood pressure.\n",
        "\n",
        "---"
      ],
      "metadata": {
        "id": "G631HGtPNhug"
      }
    },
    {
      "cell_type": "code",
      "source": [
        "# Step 5: Visualizations"
      ],
      "metadata": {
        "collapsed": true,
        "id": "kGRBSas9I8oj"
      },
      "execution_count": null,
      "outputs": []
    },
    {
      "cell_type": "code",
      "source": [
        "# Bar chart for Marital Status distribution\n",
        "plt.figure(figsize=(8, 6))\n",
        "sns.countplot(x='Marital_Status', data=df)\n",
        "plt.title(\"Distribution of Marital Status\")\n",
        "plt.xlabel(\"Marital Status\")\n",
        "plt.ylabel(\"Count\")\n",
        "plt.show()"
      ],
      "metadata": {
        "colab": {
          "base_uri": "https://localhost:8080/",
          "height": 573
        },
        "id": "s9wOzVx6Qvq5",
        "outputId": "de748c29-6d31-48ef-ddcb-a40e604f0246"
      },
      "execution_count": null,
      "outputs": [
        {
          "output_type": "display_data",
          "data": {
            "text/plain": [
              "<Figure size 800x600 with 1 Axes>"
            ],
            "image/png": "[encoded data removed]"
          },
          "metadata": {}
        }
      ]
    },
    {
      "cell_type": "markdown",
      "source": [
        "### Visualization of Marital Status Distribution\n",
        "The bar chart above shows the distribution of marital status in the dataset, giving an overview of the number of married vs. not married individuals.\n"
      ],
      "metadata": {
        "id": "oHxVRNcZRmdu"
      }
    },
    {
      "cell_type": "code",
      "source": [
        "# Bar chart for Education Level distribution\n",
        "plt.figure(figsize=(8, 6))\n",
        "sns.countplot(x='Education_Level', data=df)\n",
        "plt.title(\"Distribution of Education Level\")\n",
        "plt.xlabel(\"Education Level\")\n",
        "plt.ylabel(\"Count\")\n",
        "plt.show()"
      ],
      "metadata": {
        "colab": {
          "base_uri": "https://localhost:8080/",
          "height": 573
        },
        "id": "0aL8Xe9UQ3pV",
        "outputId": "ea515756-f389-4a09-fded-3166666fe22c"
      },
      "execution_count": null,
      "outputs": [
        {
          "output_type": "display_data",
          "data": {
            "text/plain": [
              "<Figure size 800x600 with 1 Axes>"
            ],
            "image/png": "[encoded data removed]"
          },
          "metadata": {}
        }
      ]
    },
    {
      "cell_type": "markdown",
      "source": [
        "### Visualization of Education Level Distribution\n",
        "This bar chart represents the distribution of education levels in the dataset, showing the number of individuals with a bachelor's degree or higher versus those with less than a bachelor's degree.\n"
      ],
      "metadata": {
        "id": "c-VzDJb8RsWq"
      }
    },
    {
      "cell_type": "code",
      "source": [
        "# Boxplot for Systolic Blood Pressure by Marital Status\n",
        "plt.figure(figsize=(10, 6))\n",
        "sns.boxplot(x='Marital_Status', y='BPXOSY3', data=df)\n",
        "plt.title(\"Systolic Blood Pressure by Marital Status\")\n",
        "plt.xlabel(\"Marital Status\")\n",
        "plt.ylabel(\"Systolic Blood Pressure\")\n",
        "plt.show()"
      ],
      "metadata": {
        "colab": {
          "base_uri": "https://localhost:8080/",
          "height": 491
        },
        "id": "AWnq5JuzQ-an",
        "outputId": "2736e2b1-20c0-49f3-f9bb-dfd7d3b26940"
      },
      "execution_count": null,
      "outputs": [
        {
          "output_type": "display_data",
          "data": {
            "text/plain": [
              "<Figure size 1000x600 with 1 Axes>"
            ],
            "image/png": "[encoded data removed]"
          },
          "metadata": {}
        }
      ]
    },
    {
      "cell_type": "markdown",
      "source": [
        "### Visualization of Systolic Blood Pressure by Marital Status\n",
        "The boxplot above compares the systolic blood pressure distribution between married and not married individuals, showing differences in blood pressure levels.\n"
      ],
      "metadata": {
        "id": "0g3mzogbRxED"
      }
    },
    {
      "cell_type": "code",
      "source": [
        "# Histogram for Sedentary Behavior Time\n",
        "plt.figure(figsize=(10, 6))\n",
        "sns.histplot(df['PAD680'].dropna(), kde=True, bins=30)\n",
        "plt.title(\"Distribution of Sedentary Behavior Time (PAD680)\")\n",
        "plt.xlabel(\"Sedentary Behavior Time (Minutes)\")\n",
        "plt.ylabel(\"Frequency\")\n",
        "plt.show()\n"
      ],
      "metadata": {
        "colab": {
          "base_uri": "https://localhost:8080/",
          "height": 485
        },
        "id": "jlMEo_YtRCO1",
        "outputId": "21aacab8-03e2-4ddd-f2f0-85b5416a8315"
      },
      "execution_count": null,
      "outputs": [
        {
          "output_type": "display_data",
          "data": {
            "text/plain": [
              "<Figure size 1000x600 with 1 Axes>"
            ],
            "image/png": "[encoded data removed]"
          },
          "metadata": {}
        }
      ]
    },
    {
      "cell_type": "markdown",
      "source": [
        "### Visualization of Sedentary Behavior Time Distribution\n",
        "The histogram above displays the distribution of sedentary behavior time (in minutes) across individuals, providing insights into the levels of physical inactivity in the dataset.\n"
      ],
      "metadata": {
        "id": "NuzzXxsBR4Y5"
      }
    },
    {
      "cell_type": "code",
      "source": [
        "# Boxplot for Diastolic Blood Pressure by Kidney Status\n",
        "plt.figure(figsize=(10, 6))\n",
        "sns.boxplot(x='Kidney_Status', y='BPXODI3', data=df)\n",
        "plt.title(\"Diastolic Blood Pressure by Kidney Status\")\n",
        "plt.xlabel(\"Kidney Status\")\n",
        "plt.ylabel(\"Diastolic Blood Pressure\")\n",
        "plt.show()"
      ],
      "metadata": {
        "colab": {
          "base_uri": "https://localhost:8080/",
          "height": 491
        },
        "id": "5xWgkD1fRFYA",
        "outputId": "d14a8a09-bd60-40b5-c1aa-37653c35179c"
      },
      "execution_count": null,
      "outputs": [
        {
          "output_type": "display_data",
          "data": {
            "text/plain": [
              "<Figure size 1000x600 with 1 Axes>"
            ],
            "image/png": "[encoded data removed]"
          },
          "metadata": {}
        }
      ]
    },
    {
      "cell_type": "markdown",
      "source": [
        "### Visualization of Diastolic Blood Pressure by Kidney Status\n",
        "The boxplot above compares diastolic blood pressure between individuals with and without kidney issues, highlighting any differences based on kidney health status.\n"
      ],
      "metadata": {
        "id": "qo2kjcJJR8KB"
      }
    }
  ]
}